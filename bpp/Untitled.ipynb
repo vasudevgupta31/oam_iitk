{
 "cells": [
  {
   "cell_type": "code",
   "execution_count": 1,
   "id": "f20d7262",
   "metadata": {},
   "outputs": [],
   "source": [
    "### CREATE PIPELINE TO PROCESS ANY SOURCE"
   ]
  },
  {
   "cell_type": "code",
   "execution_count": null,
   "id": "aee2d0ca",
   "metadata": {},
   "outputs": [],
   "source": []
  }
 ],
 "metadata": {
  "kernelspec": {
   "display_name": "Python 3 (ipykernel)",
   "language": "python",
   "name": "python3"
  },
  "language_info": {
   "codemirror_mode": {
    "name": "ipython",
    "version": 3
   },
   "file_extension": ".py",
   "mimetype": "text/x-python",
   "name": "python",
   "nbconvert_exporter": "python",
   "pygments_lexer": "ipython3",
   "version": "3.9.16"
  }
 },
 "nbformat": 4,
 "nbformat_minor": 5
}
